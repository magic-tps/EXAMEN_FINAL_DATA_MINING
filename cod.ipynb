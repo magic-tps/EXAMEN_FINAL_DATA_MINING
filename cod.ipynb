{
 "cells": [
  {
   "cell_type": "markdown",
   "metadata": {},
   "source": [
    "# Aplique por lo menos dos métodos de clasificación a los datos, utilice como variable target la columna Survived.\n"
   ]
  },
  {
   "cell_type": "code",
   "execution_count": 1,
   "metadata": {},
   "outputs": [],
   "source": [
    "import pandas as pd\n",
    "import numpy as np\n",
    "from sklearn.model_selection import train_test_split\n",
    "from sklearn.ensemble import RandomForestClassifier\n",
    "from sklearn.neighbors import KNeighborsClassifier\n",
    "from sklearn.metrics import accuracy_score, classification_report"
   ]
  },
  {
   "cell_type": "code",
   "execution_count": 2,
   "metadata": {},
   "outputs": [],
   "source": [
    "# Cargar los datos\n",
    "data = pd.read_csv(\"tested.csv\")"
   ]
  },
  {
   "cell_type": "code",
   "execution_count": 3,
   "metadata": {},
   "outputs": [
    {
     "data": {
      "text/plain": [
       "PassengerId      0\n",
       "Survived         0\n",
       "Pclass           0\n",
       "Name             0\n",
       "Sex              0\n",
       "Age             86\n",
       "SibSp            0\n",
       "Parch            0\n",
       "Ticket           0\n",
       "Fare             1\n",
       "Cabin          327\n",
       "Embarked         0\n",
       "dtype: int64"
      ]
     },
     "execution_count": 3,
     "metadata": {},
     "output_type": "execute_result"
    }
   ],
   "source": [
    "data.isnull().sum()"
   ]
  },
  {
   "cell_type": "markdown",
   "metadata": {},
   "source": [
    "### Limpieza y preparación"
   ]
  },
  {
   "cell_type": "code",
   "execution_count": 4,
   "metadata": {},
   "outputs": [
    {
     "name": "stderr",
     "output_type": "stream",
     "text": [
      "C:\\Users\\magic\\AppData\\Local\\Temp\\ipykernel_340\\234581514.py:2: FutureWarning: A value is trying to be set on a copy of a DataFrame or Series through chained assignment using an inplace method.\n",
      "The behavior will change in pandas 3.0. This inplace method will never work because the intermediate object on which we are setting values always behaves as a copy.\n",
      "\n",
      "For example, when doing 'df[col].method(value, inplace=True)', try using 'df.method({col: value}, inplace=True)' or df[col] = df[col].method(value) instead, to perform the operation inplace on the original object.\n",
      "\n",
      "\n",
      "  data['Age'].fillna(data['Age'].median(), inplace=True)\n",
      "C:\\Users\\magic\\AppData\\Local\\Temp\\ipykernel_340\\234581514.py:5: FutureWarning: A value is trying to be set on a copy of a DataFrame or Series through chained assignment using an inplace method.\n",
      "The behavior will change in pandas 3.0. This inplace method will never work because the intermediate object on which we are setting values always behaves as a copy.\n",
      "\n",
      "For example, when doing 'df[col].method(value, inplace=True)', try using 'df.method({col: value}, inplace=True)' or df[col] = df[col].method(value) instead, to perform the operation inplace on the original object.\n",
      "\n",
      "\n",
      "  data['Embarked'].fillna(data['Embarked'].mode()[0], inplace=True)\n",
      "C:\\Users\\magic\\AppData\\Local\\Temp\\ipykernel_340\\234581514.py:8: FutureWarning: A value is trying to be set on a copy of a DataFrame or Series through chained assignment using an inplace method.\n",
      "The behavior will change in pandas 3.0. This inplace method will never work because the intermediate object on which we are setting values always behaves as a copy.\n",
      "\n",
      "For example, when doing 'df[col].method(value, inplace=True)', try using 'df.method({col: value}, inplace=True)' or df[col] = df[col].method(value) instead, to perform the operation inplace on the original object.\n",
      "\n",
      "\n",
      "  data['Fare'].fillna(data['Fare'].median(), inplace=True)\n"
     ]
    }
   ],
   "source": [
    "# Llenar valores nulos en la columna 'Age' con la mediana\n",
    "data['Age'].fillna(data['Age'].median(), inplace=True)\n",
    "\n",
    "# Llenar valores nulos en 'Embarked' con el valor más frecuente\n",
    "data['Embarked'].fillna(data['Embarked'].mode()[0], inplace=True)\n",
    "\n",
    "# Llenar valores nulos en 'Fare' con la mediana\n",
    "data['Fare'].fillna(data['Fare'].median(), inplace=True)"
   ]
  },
  {
   "cell_type": "code",
   "execution_count": 5,
   "metadata": {},
   "outputs": [
    {
     "name": "stdout",
     "output_type": "stream",
     "text": [
      "['Q' 'S' 'C']\n"
     ]
    }
   ],
   "source": [
    "print(data['Embarked'].unique())"
   ]
  },
  {
   "cell_type": "code",
   "execution_count": 6,
   "metadata": {},
   "outputs": [
    {
     "name": "stdout",
     "output_type": "stream",
     "text": [
      "[3 2 1]\n"
     ]
    }
   ],
   "source": [
    "print(data['Pclass'].unique())"
   ]
  },
  {
   "cell_type": "code",
   "execution_count": 7,
   "metadata": {},
   "outputs": [
    {
     "name": "stdout",
     "output_type": "stream",
     "text": [
      "[  7.8292   7.       9.6875   8.6625  12.2875   9.225    7.6292  29.\n",
      "   7.2292  24.15     7.8958  26.      82.2667  61.175   27.7208  12.35\n",
      "   7.225    7.925   59.4      3.1708  31.6833  61.3792 262.375   14.5\n",
      "  61.9792  30.5     21.6792  31.5     20.575   23.45    57.75     8.05\n",
      "   9.5     56.4958  13.4167  26.55     7.85    13.      52.5542  29.7\n",
      "   7.75    76.2917  15.9     60.      15.0333  23.     263.      15.5792\n",
      "  29.125    7.65    16.1     13.5      7.725   21.       7.8792  42.4\n",
      "  28.5375 211.5     25.7     15.2458 221.7792  10.7083  14.4542  13.9\n",
      "   7.775   52.       7.7958  78.85     7.8542  55.4417   8.5167  22.525\n",
      "   7.8208   8.7125  15.0458   7.7792  31.6792   7.2833   6.4375  16.7\n",
      "  75.2417  15.75     7.25    23.25    28.5     25.4667  46.9    151.55\n",
      "  18.      51.8625  83.1583  12.1833  31.3875   7.55    13.775    7.7333\n",
      "  22.025   50.4958  34.375    8.9625  39.      36.75    53.1    247.5208\n",
      "  16.      69.55    32.5    134.5     10.5      8.1125  15.5     14.4\n",
      " 227.525   25.7417   7.05    73.5     42.5    164.8667  13.8583  27.4458\n",
      "  15.1     65.       6.4958  71.2833  75.25   106.425   30.       7.8875\n",
      "  27.75   136.7792   9.325   17.4     12.7375   0.      20.2125  39.6\n",
      "   6.95    81.8583  41.5792  45.5      9.35    93.5     14.1083   7.575\n",
      " 135.6333 146.5208 211.3375  79.2     15.7417   7.5792 512.3292  63.3583\n",
      "  51.4792  15.55    37.0042  14.4583  39.6875  11.5     50.      12.875\n",
      "  21.075   39.4     20.25    47.1     13.8625   7.7208  90.     108.9\n",
      "  22.3583]\n"
     ]
    }
   ],
   "source": [
    "print(data['Fare'].unique())"
   ]
  },
  {
   "cell_type": "code",
   "execution_count": 8,
   "metadata": {},
   "outputs": [
    {
     "name": "stdout",
     "output_type": "stream",
     "text": [
      "[0 1 2 3 4 5 8]\n"
     ]
    }
   ],
   "source": [
    "print(data['SibSp'].unique())"
   ]
  },
  {
   "cell_type": "code",
   "execution_count": 9,
   "metadata": {},
   "outputs": [
    {
     "name": "stdout",
     "output_type": "stream",
     "text": [
      "[0 1 3 2 4 6 5 9]\n"
     ]
    }
   ],
   "source": [
    "print(data['Parch'].unique())"
   ]
  },
  {
   "cell_type": "code",
   "execution_count": 10,
   "metadata": {},
   "outputs": [],
   "source": [
    "# Convertir valores categóricos a numéricos\n",
    "data['Sex'] = data['Sex'].map({'male': 0, 'female': 1})\n",
    "data['Embarked'] = data['Embarked'].map({'C': 0, 'Q': 1, 'S': 2})"
   ]
  },
  {
   "cell_type": "code",
   "execution_count": 11,
   "metadata": {},
   "outputs": [],
   "source": [
    "# Verificar si quedan valores nulos en las columnas seleccionadas\n",
    "features = ['Pclass', 'Sex', 'Age', 'SibSp', 'Parch', 'Fare', 'Embarked']\n",
    "if data[features].isnull().sum().sum() > 0:\n",
    "    print(\"Aún hay valores nulos en las características. Corrigiendo...\")\n",
    "    data[features] = data[features].fillna(0) \n",
    "\n",
    "# Seleccionar características y la variable objetivo\n",
    "X = data[features]\n",
    "y = data['Survived']"
   ]
  },
  {
   "cell_type": "code",
   "execution_count": 12,
   "metadata": {},
   "outputs": [],
   "source": [
    "# Dividir los datos en entrenamiento y prueba\n",
    "X_train, X_test, y_train, y_test = train_test_split(X, y, test_size=0.2, random_state=42)"
   ]
  },
  {
   "cell_type": "markdown",
   "metadata": {},
   "source": [
    "Random Forest"
   ]
  },
  {
   "cell_type": "code",
   "execution_count": null,
   "metadata": {},
   "outputs": [
    {
     "name": "stdout",
     "output_type": "stream",
     "text": [
      "Random Forest:\n",
      "Accuracy: 1.00\n",
      "              precision    recall  f1-score   support\n",
      "\n",
      "           0       1.00      1.00      1.00        50\n",
      "           1       1.00      1.00      1.00        34\n",
      "\n",
      "    accuracy                           1.00        84\n",
      "   macro avg       1.00      1.00      1.00        84\n",
      "weighted avg       1.00      1.00      1.00        84\n",
      "\n"
     ]
    }
   ],
   "source": [
    "rf_model = RandomForestClassifier(random_state=42)\n",
    "rf_model.fit(X_train, y_train)\n",
    "rf_predictions = rf_model.predict(X_test)\n",
    "print(\"Random Forest:\")\n",
    "print(f\"Accuracy: {accuracy_score(y_test, rf_predictions):.2f}\")\n",
    "print(classification_report(y_test, rf_predictions))"
   ]
  },
  {
   "cell_type": "markdown",
   "metadata": {},
   "source": [
    "K-Nearest Neighbors"
   ]
  },
  {
   "cell_type": "code",
   "execution_count": null,
   "metadata": {},
   "outputs": [
    {
     "name": "stdout",
     "output_type": "stream",
     "text": [
      "K-Nearest Neighbors:\n",
      "Accuracy: 0.65\n",
      "              precision    recall  f1-score   support\n",
      "\n",
      "           0       0.66      0.86      0.75        50\n",
      "           1       0.63      0.35      0.45        34\n",
      "\n",
      "    accuracy                           0.65        84\n",
      "   macro avg       0.65      0.61      0.60        84\n",
      "weighted avg       0.65      0.65      0.63        84\n",
      "\n"
     ]
    }
   ],
   "source": [
    "knn_model = KNeighborsClassifier(n_neighbors=5)\n",
    "knn_model.fit(X_train, y_train)\n",
    "knn_predictions = knn_model.predict(X_test)\n",
    "\n",
    "print(\"K-Nearest Neighbors:\")\n",
    "print(f\"Accuracy: {accuracy_score(y_test, knn_predictions):.2f}\")\n",
    "print(classification_report(y_test, knn_predictions))"
   ]
  },
  {
   "cell_type": "markdown",
   "metadata": {},
   "source": [
    "# Utilice la librería sklearn-genetic-opt y/o optuna para la optimización de hiperparametros, compare los resultados de los modelos."
   ]
  },
  {
   "cell_type": "markdown",
   "metadata": {},
   "source": [
    "### Análisis de los resultados sin Optuna:\n",
    "* Random Forest:\n",
    "\n",
    "La precisión de 1.00 es perfecta, lo que indica que el modelo es capaz de predecir todas las clases correctamente. \n",
    "* K-Nearest Neighbors (KNN):\n",
    "\n",
    "Precisión de 0.65: Este modelo está teniendo un rendimiento más bajo, con buenos resultados para la clase 0 (con recall de 0.86), pero con un rendimiento mucho más bajo para la clase 1 (recall de 0.35). El modelo tiene dificultades para predecir la clase 1 correctamente.\n"
   ]
  },
  {
   "cell_type": "markdown",
   "metadata": {},
   "source": [
    "### Análisis de los resultados con Optuna:\n",
    "* Random Forest (con Optuna):\n",
    "\n",
    "El modelo Random Forest optimizado con Optuna también obtiene una precisión de 1.0, lo cual es similar al rendimiento sin Optuna. Sin embargo, esto también podría ser una señal de que el modelo se ajustó demasiado a los datos de entrenamiento.\n",
    "* K-Nearest Neighbors (KNN con Optuna):\n",
    "\n",
    "Al igual que Random Forest, KNN también obtiene una puntuación perfecta de 1.0. Esto puede indicar que el ajuste con Optuna ha mejorado el modelo, pero también puede ser una señal de sobreajuste. Al igual que con Random Forest, es importante validar este modelo con un conjunto de prueba más grande o realizar validación cruzada para asegurar que este resultado no es sólo un ajuste a los datos de entrenamiento."
   ]
  },
  {
   "cell_type": "markdown",
   "metadata": {},
   "source": [
    "# Realice el despliegue de la aplicación utilizando la librería streamlit.\n"
   ]
  },
  {
   "cell_type": "code",
   "execution_count": 15,
   "metadata": {},
   "outputs": [
    {
     "name": "stderr",
     "output_type": "stream",
     "text": [
      "c:\\Users\\magic\\AppData\\Local\\Programs\\Python\\Python313\\Lib\\site-packages\\tqdm\\auto.py:21: TqdmWarning: IProgress not found. Please update jupyter and ipywidgets. See https://ipywidgets.readthedocs.io/en/stable/user_install.html\n",
      "  from .autonotebook import tqdm as notebook_tqdm\n",
      "C:\\Users\\magic\\AppData\\Local\\Temp\\ipykernel_340\\2103164733.py:18: FutureWarning: A value is trying to be set on a copy of a DataFrame or Series through chained assignment using an inplace method.\n",
      "The behavior will change in pandas 3.0. This inplace method will never work because the intermediate object on which we are setting values always behaves as a copy.\n",
      "\n",
      "For example, when doing 'df[col].method(value, inplace=True)', try using 'df.method({col: value}, inplace=True)' or df[col] = df[col].method(value) instead, to perform the operation inplace on the original object.\n",
      "\n",
      "\n",
      "  data['Age'].fillna(data['Age'].median(), inplace=True)\n",
      "C:\\Users\\magic\\AppData\\Local\\Temp\\ipykernel_340\\2103164733.py:21: FutureWarning: A value is trying to be set on a copy of a DataFrame or Series through chained assignment using an inplace method.\n",
      "The behavior will change in pandas 3.0. This inplace method will never work because the intermediate object on which we are setting values always behaves as a copy.\n",
      "\n",
      "For example, when doing 'df[col].method(value, inplace=True)', try using 'df.method({col: value}, inplace=True)' or df[col] = df[col].method(value) instead, to perform the operation inplace on the original object.\n",
      "\n",
      "\n",
      "  data['Embarked'].fillna(data['Embarked'].mode()[0], inplace=True)\n",
      "C:\\Users\\magic\\AppData\\Local\\Temp\\ipykernel_340\\2103164733.py:24: FutureWarning: A value is trying to be set on a copy of a DataFrame or Series through chained assignment using an inplace method.\n",
      "The behavior will change in pandas 3.0. This inplace method will never work because the intermediate object on which we are setting values always behaves as a copy.\n",
      "\n",
      "For example, when doing 'df[col].method(value, inplace=True)', try using 'df.method({col: value}, inplace=True)' or df[col] = df[col].method(value) instead, to perform the operation inplace on the original object.\n",
      "\n",
      "\n",
      "  data['Fare'].fillna(data['Fare'].median(), inplace=True)\n",
      "[I 2024-11-26 16:28:05,617] A new study created in memory with name: no-name-1a8a3682-08f2-45a4-8309-8322ca51d206\n",
      "[I 2024-11-26 16:28:05,618] A new study created in memory with name: no-name-5e3ca058-dd39-4326-b20b-160ef6a2976f\n",
      "[I 2024-11-26 16:28:05,740] Trial 0 finished with value: 1.0 and parameters: {'n_estimators': 170, 'max_depth': 18, 'min_samples_split': 19, 'min_samples_leaf': 20}. Best is trial 0 with value: 1.0.\n",
      "[I 2024-11-26 16:28:05,823] Trial 1 finished with value: 1.0 and parameters: {'n_estimators': 113, 'max_depth': 16, 'min_samples_split': 20, 'min_samples_leaf': 9}. Best is trial 0 with value: 1.0.\n",
      "[I 2024-11-26 16:28:05,961] Trial 2 finished with value: 1.0 and parameters: {'n_estimators': 188, 'max_depth': 12, 'min_samples_split': 12, 'min_samples_leaf': 2}. Best is trial 0 with value: 1.0.\n",
      "[I 2024-11-26 16:28:06,080] Trial 3 finished with value: 1.0 and parameters: {'n_estimators': 166, 'max_depth': 17, 'min_samples_split': 14, 'min_samples_leaf': 12}. Best is trial 0 with value: 1.0.\n",
      "[I 2024-11-26 16:28:06,218] Trial 4 finished with value: 1.0 and parameters: {'n_estimators': 190, 'max_depth': 23, 'min_samples_split': 12, 'min_samples_leaf': 3}. Best is trial 0 with value: 1.0.\n",
      "[I 2024-11-26 16:28:06,268] Trial 5 finished with value: 1.0 and parameters: {'n_estimators': 67, 'max_depth': 19, 'min_samples_split': 15, 'min_samples_leaf': 19}. Best is trial 0 with value: 1.0.\n",
      "[I 2024-11-26 16:28:06,386] Trial 6 finished with value: 1.0 and parameters: {'n_estimators': 164, 'max_depth': 12, 'min_samples_split': 17, 'min_samples_leaf': 6}. Best is trial 0 with value: 1.0.\n",
      "[I 2024-11-26 16:28:06,522] Trial 7 finished with value: 1.0 and parameters: {'n_estimators': 189, 'max_depth': 18, 'min_samples_split': 11, 'min_samples_leaf': 10}. Best is trial 0 with value: 1.0.\n",
      "[I 2024-11-26 16:28:06,666] Trial 8 finished with value: 1.0 and parameters: {'n_estimators': 196, 'max_depth': 13, 'min_samples_split': 13, 'min_samples_leaf': 5}. Best is trial 0 with value: 1.0.\n",
      "[I 2024-11-26 16:28:06,763] Trial 9 finished with value: 1.0 and parameters: {'n_estimators': 135, 'max_depth': 29, 'min_samples_split': 11, 'min_samples_leaf': 17}. Best is trial 0 with value: 1.0.\n",
      "[I 2024-11-26 16:28:06,857] Trial 10 finished with value: 1.0 and parameters: {'n_estimators': 114, 'max_depth': 4, 'min_samples_split': 5, 'min_samples_leaf': 15}. Best is trial 0 with value: 1.0.\n",
      "[I 2024-11-26 16:28:06,946] Trial 11 finished with value: 1.0 and parameters: {'n_estimators': 107, 'max_depth': 23, 'min_samples_split': 20, 'min_samples_leaf': 9}. Best is trial 0 with value: 1.0.\n",
      "[I 2024-11-26 16:28:07,018] Trial 12 finished with value: 1.0 and parameters: {'n_estimators': 83, 'max_depth': 8, 'min_samples_split': 20, 'min_samples_leaf': 14}. Best is trial 0 with value: 1.0.\n",
      "[I 2024-11-26 16:28:07,129] Trial 13 finished with value: 1.0 and parameters: {'n_estimators': 141, 'max_depth': 23, 'min_samples_split': 17, 'min_samples_leaf': 20}. Best is trial 0 with value: 1.0.\n",
      "[I 2024-11-26 16:28:07,210] Trial 14 finished with value: 1.0 and parameters: {'n_estimators': 94, 'max_depth': 29, 'min_samples_split': 6, 'min_samples_leaf': 7}. Best is trial 0 with value: 1.0.\n",
      "[I 2024-11-26 16:28:07,328] Trial 15 finished with value: 1.0 and parameters: {'n_estimators': 150, 'max_depth': 14, 'min_samples_split': 2, 'min_samples_leaf': 12}. Best is trial 0 with value: 1.0.\n",
      "[I 2024-11-26 16:28:07,379] Trial 16 finished with value: 1.0 and parameters: {'n_estimators': 51, 'max_depth': 7, 'min_samples_split': 18, 'min_samples_leaf': 16}. Best is trial 0 with value: 1.0.\n",
      "[I 2024-11-26 16:28:07,479] Trial 17 finished with value: 1.0 and parameters: {'n_estimators': 122, 'max_depth': 20, 'min_samples_split': 8, 'min_samples_leaf': 9}. Best is trial 0 with value: 1.0.\n",
      "[I 2024-11-26 16:28:07,603] Trial 18 finished with value: 1.0 and parameters: {'n_estimators': 156, 'max_depth': 26, 'min_samples_split': 18, 'min_samples_leaf': 13}. Best is trial 0 with value: 1.0.\n",
      "[I 2024-11-26 16:28:07,738] Trial 19 finished with value: 1.0 and parameters: {'n_estimators': 173, 'max_depth': 15, 'min_samples_split': 16, 'min_samples_leaf': 18}. Best is trial 0 with value: 1.0.\n",
      "[I 2024-11-26 16:28:07,821] Trial 20 finished with value: 1.0 and parameters: {'n_estimators': 96, 'max_depth': 9, 'min_samples_split': 19, 'min_samples_leaf': 8}. Best is trial 0 with value: 1.0.\n",
      "[I 2024-11-26 16:28:07,967] Trial 21 finished with value: 1.0 and parameters: {'n_estimators': 184, 'max_depth': 10, 'min_samples_split': 8, 'min_samples_leaf': 1}. Best is trial 0 with value: 1.0.\n",
      "[I 2024-11-26 16:28:08,105] Trial 22 finished with value: 1.0 and parameters: {'n_estimators': 174, 'max_depth': 16, 'min_samples_split': 15, 'min_samples_leaf': 1}. Best is trial 0 with value: 1.0.\n",
      "[I 2024-11-26 16:28:08,211] Trial 23 finished with value: 1.0 and parameters: {'n_estimators': 129, 'max_depth': 12, 'min_samples_split': 20, 'min_samples_leaf': 4}. Best is trial 0 with value: 1.0.\n",
      "[I 2024-11-26 16:28:08,330] Trial 24 finished with value: 1.0 and parameters: {'n_estimators': 146, 'max_depth': 20, 'min_samples_split': 9, 'min_samples_leaf': 3}. Best is trial 0 with value: 1.0.\n",
      "[I 2024-11-26 16:28:08,470] Trial 25 finished with value: 1.0 and parameters: {'n_estimators': 177, 'max_depth': 6, 'min_samples_split': 18, 'min_samples_leaf': 11}. Best is trial 0 with value: 1.0.\n",
      "[I 2024-11-26 16:28:08,597] Trial 26 finished with value: 1.0 and parameters: {'n_estimators': 159, 'max_depth': 10, 'min_samples_split': 2, 'min_samples_leaf': 7}. Best is trial 0 with value: 1.0.\n",
      "[I 2024-11-26 16:28:08,695] Trial 27 finished with value: 1.0 and parameters: {'n_estimators': 116, 'max_depth': 16, 'min_samples_split': 16, 'min_samples_leaf': 15}. Best is trial 0 with value: 1.0.\n",
      "[I 2024-11-26 16:28:08,851] Trial 28 finished with value: 1.0 and parameters: {'n_estimators': 199, 'max_depth': 22, 'min_samples_split': 13, 'min_samples_leaf': 3}. Best is trial 0 with value: 1.0.\n",
      "[I 2024-11-26 16:28:08,984] Trial 29 finished with value: 1.0 and parameters: {'n_estimators': 168, 'max_depth': 17, 'min_samples_split': 14, 'min_samples_leaf': 12}. Best is trial 0 with value: 1.0.\n",
      "[I 2024-11-26 16:28:09,130] Trial 30 finished with value: 1.0 and parameters: {'n_estimators': 183, 'max_depth': 11, 'min_samples_split': 10, 'min_samples_leaf': 5}. Best is trial 0 with value: 1.0.\n",
      "[I 2024-11-26 16:28:09,255] Trial 31 finished with value: 1.0 and parameters: {'n_estimators': 156, 'max_depth': 14, 'min_samples_split': 13, 'min_samples_leaf': 10}. Best is trial 0 with value: 1.0.\n",
      "[I 2024-11-26 16:28:09,403] Trial 32 finished with value: 1.0 and parameters: {'n_estimators': 191, 'max_depth': 18, 'min_samples_split': 15, 'min_samples_leaf': 18}. Best is trial 0 with value: 1.0.\n",
      "[I 2024-11-26 16:28:09,536] Trial 33 finished with value: 1.0 and parameters: {'n_estimators': 167, 'max_depth': 21, 'min_samples_split': 19, 'min_samples_leaf': 20}. Best is trial 0 with value: 1.0.\n",
      "[I 2024-11-26 16:28:09,647] Trial 34 finished with value: 1.0 and parameters: {'n_estimators': 133, 'max_depth': 18, 'min_samples_split': 16, 'min_samples_leaf': 2}. Best is trial 0 with value: 1.0.\n",
      "[I 2024-11-26 16:28:09,791] Trial 35 finished with value: 1.0 and parameters: {'n_estimators': 181, 'max_depth': 25, 'min_samples_split': 12, 'min_samples_leaf': 6}. Best is trial 0 with value: 1.0.\n",
      "[I 2024-11-26 16:28:09,879] Trial 36 finished with value: 1.0 and parameters: {'n_estimators': 105, 'max_depth': 13, 'min_samples_split': 12, 'min_samples_leaf': 13}. Best is trial 0 with value: 1.0.\n",
      "[I 2024-11-26 16:28:09,949] Trial 37 finished with value: 1.0 and parameters: {'n_estimators': 77, 'max_depth': 15, 'min_samples_split': 14, 'min_samples_leaf': 17}. Best is trial 0 with value: 1.0.\n",
      "[I 2024-11-26 16:28:10,098] Trial 38 finished with value: 1.0 and parameters: {'n_estimators': 189, 'max_depth': 18, 'min_samples_split': 17, 'min_samples_leaf': 11}. Best is trial 0 with value: 1.0.\n",
      "[I 2024-11-26 16:28:10,211] Trial 39 finished with value: 1.0 and parameters: {'n_estimators': 140, 'max_depth': 3, 'min_samples_split': 10, 'min_samples_leaf': 9}. Best is trial 0 with value: 1.0.\n",
      "[I 2024-11-26 16:28:10,368] Trial 40 finished with value: 1.0 and parameters: {'n_estimators': 199, 'max_depth': 12, 'min_samples_split': 19, 'min_samples_leaf': 5}. Best is trial 0 with value: 1.0.\n",
      "[I 2024-11-26 16:28:10,521] Trial 41 finished with value: 1.0 and parameters: {'n_estimators': 193, 'max_depth': 25, 'min_samples_split': 11, 'min_samples_leaf': 3}. Best is trial 0 with value: 1.0.\n",
      "[I 2024-11-26 16:28:10,655] Trial 42 finished with value: 1.0 and parameters: {'n_estimators': 162, 'max_depth': 27, 'min_samples_split': 12, 'min_samples_leaf': 2}. Best is trial 0 with value: 1.0.\n",
      "[I 2024-11-26 16:28:10,794] Trial 43 finished with value: 1.0 and parameters: {'n_estimators': 171, 'max_depth': 19, 'min_samples_split': 14, 'min_samples_leaf': 4}. Best is trial 0 with value: 1.0.\n",
      "[I 2024-11-26 16:28:10,943] Trial 44 finished with value: 1.0 and parameters: {'n_estimators': 188, 'max_depth': 23, 'min_samples_split': 10, 'min_samples_leaf': 6}. Best is trial 0 with value: 1.0.\n",
      "[I 2024-11-26 16:28:11,063] Trial 45 finished with value: 1.0 and parameters: {'n_estimators': 148, 'max_depth': 14, 'min_samples_split': 20, 'min_samples_leaf': 15}. Best is trial 0 with value: 1.0.\n",
      "[I 2024-11-26 16:28:11,167] Trial 46 finished with value: 1.0 and parameters: {'n_estimators': 124, 'max_depth': 20, 'min_samples_split': 7, 'min_samples_leaf': 8}. Best is trial 0 with value: 1.0.\n",
      "[I 2024-11-26 16:28:11,310] Trial 47 finished with value: 1.0 and parameters: {'n_estimators': 181, 'max_depth': 17, 'min_samples_split': 17, 'min_samples_leaf': 19}. Best is trial 0 with value: 1.0.\n",
      "[I 2024-11-26 16:28:11,405] Trial 48 finished with value: 1.0 and parameters: {'n_estimators': 111, 'max_depth': 15, 'min_samples_split': 4, 'min_samples_leaf': 14}. Best is trial 0 with value: 1.0.\n",
      "[I 2024-11-26 16:28:11,537] Trial 49 finished with value: 1.0 and parameters: {'n_estimators': 163, 'max_depth': 23, 'min_samples_split': 11, 'min_samples_leaf': 1}. Best is trial 0 with value: 1.0.\n",
      "[I 2024-11-26 16:28:11,543] Trial 0 finished with value: 0.9880952380952381 and parameters: {'n_neighbors': 4, 'weights': 'uniform', 'algorithm': 'ball_tree'}. Best is trial 0 with value: 0.9880952380952381.\n",
      "[I 2024-11-26 16:28:11,547] Trial 1 finished with value: 0.9880952380952381 and parameters: {'n_neighbors': 6, 'weights': 'uniform', 'algorithm': 'ball_tree'}. Best is trial 0 with value: 0.9880952380952381.\n",
      "[I 2024-11-26 16:28:11,550] Trial 2 finished with value: 1.0 and parameters: {'n_neighbors': 18, 'weights': 'distance', 'algorithm': 'ball_tree'}. Best is trial 2 with value: 1.0.\n",
      "[I 2024-11-26 16:28:11,552] Trial 3 finished with value: 0.9880952380952381 and parameters: {'n_neighbors': 3, 'weights': 'distance', 'algorithm': 'auto'}. Best is trial 2 with value: 1.0.\n",
      "[I 2024-11-26 16:28:11,555] Trial 4 finished with value: 1.0 and parameters: {'n_neighbors': 12, 'weights': 'distance', 'algorithm': 'kd_tree'}. Best is trial 2 with value: 1.0.\n",
      "[I 2024-11-26 16:28:11,559] Trial 5 finished with value: 1.0 and parameters: {'n_neighbors': 10, 'weights': 'uniform', 'algorithm': 'auto'}. Best is trial 2 with value: 1.0.\n",
      "[I 2024-11-26 16:28:11,678] Trial 6 finished with value: 1.0 and parameters: {'n_neighbors': 7, 'weights': 'uniform', 'algorithm': 'brute'}. Best is trial 2 with value: 1.0.\n",
      "[I 2024-11-26 16:28:11,681] Trial 7 finished with value: 0.9880952380952381 and parameters: {'n_neighbors': 8, 'weights': 'distance', 'algorithm': 'auto'}. Best is trial 2 with value: 1.0.\n",
      "[I 2024-11-26 16:28:11,686] Trial 8 finished with value: 0.9880952380952381 and parameters: {'n_neighbors': 4, 'weights': 'uniform', 'algorithm': 'ball_tree'}. Best is trial 2 with value: 1.0.\n",
      "[I 2024-11-26 16:28:11,692] Trial 9 finished with value: 1.0 and parameters: {'n_neighbors': 14, 'weights': 'uniform', 'algorithm': 'ball_tree'}. Best is trial 2 with value: 1.0.\n",
      "[I 2024-11-26 16:28:11,698] Trial 10 finished with value: 1.0 and parameters: {'n_neighbors': 20, 'weights': 'distance', 'algorithm': 'kd_tree'}. Best is trial 2 with value: 1.0.\n",
      "[I 2024-11-26 16:28:11,704] Trial 11 finished with value: 1.0 and parameters: {'n_neighbors': 16, 'weights': 'distance', 'algorithm': 'kd_tree'}. Best is trial 2 with value: 1.0.\n",
      "[I 2024-11-26 16:28:11,710] Trial 12 finished with value: 1.0 and parameters: {'n_neighbors': 19, 'weights': 'distance', 'algorithm': 'kd_tree'}. Best is trial 2 with value: 1.0.\n",
      "[I 2024-11-26 16:28:11,721] Trial 13 finished with value: 1.0 and parameters: {'n_neighbors': 13, 'weights': 'distance', 'algorithm': 'brute'}. Best is trial 2 with value: 1.0.\n",
      "[I 2024-11-26 16:28:11,728] Trial 14 finished with value: 1.0 and parameters: {'n_neighbors': 17, 'weights': 'distance', 'algorithm': 'kd_tree'}. Best is trial 2 with value: 1.0.\n",
      "[I 2024-11-26 16:28:11,734] Trial 15 finished with value: 1.0 and parameters: {'n_neighbors': 11, 'weights': 'distance', 'algorithm': 'ball_tree'}. Best is trial 2 with value: 1.0.\n",
      "[I 2024-11-26 16:28:11,740] Trial 16 finished with value: 1.0 and parameters: {'n_neighbors': 16, 'weights': 'distance', 'algorithm': 'kd_tree'}. Best is trial 2 with value: 1.0.\n",
      "[I 2024-11-26 16:28:11,752] Trial 17 finished with value: 1.0 and parameters: {'n_neighbors': 13, 'weights': 'distance', 'algorithm': 'brute'}. Best is trial 2 with value: 1.0.\n",
      "[I 2024-11-26 16:28:11,759] Trial 18 finished with value: 1.0 and parameters: {'n_neighbors': 17, 'weights': 'distance', 'algorithm': 'ball_tree'}. Best is trial 2 with value: 1.0.\n",
      "[I 2024-11-26 16:28:11,765] Trial 19 finished with value: 0.9880952380952381 and parameters: {'n_neighbors': 9, 'weights': 'distance', 'algorithm': 'kd_tree'}. Best is trial 2 with value: 1.0.\n",
      "[I 2024-11-26 16:28:11,772] Trial 20 finished with value: 1.0 and parameters: {'n_neighbors': 14, 'weights': 'distance', 'algorithm': 'ball_tree'}. Best is trial 2 with value: 1.0.\n",
      "[I 2024-11-26 16:28:11,781] Trial 21 finished with value: 1.0 and parameters: {'n_neighbors': 10, 'weights': 'uniform', 'algorithm': 'auto'}. Best is trial 2 with value: 1.0.\n",
      "[I 2024-11-26 16:28:11,790] Trial 22 finished with value: 1.0 and parameters: {'n_neighbors': 11, 'weights': 'uniform', 'algorithm': 'auto'}. Best is trial 2 with value: 1.0.\n",
      "[I 2024-11-26 16:28:11,799] Trial 23 finished with value: 1.0 and parameters: {'n_neighbors': 12, 'weights': 'uniform', 'algorithm': 'auto'}. Best is trial 2 with value: 1.0.\n",
      "[I 2024-11-26 16:28:11,808] Trial 24 finished with value: 1.0 and parameters: {'n_neighbors': 9, 'weights': 'uniform', 'algorithm': 'auto'}. Best is trial 2 with value: 1.0.\n",
      "[I 2024-11-26 16:28:11,816] Trial 25 finished with value: 0.9880952380952381 and parameters: {'n_neighbors': 6, 'weights': 'distance', 'algorithm': 'auto'}. Best is trial 2 with value: 1.0.\n",
      "[I 2024-11-26 16:28:11,827] Trial 26 finished with value: 1.0 and parameters: {'n_neighbors': 19, 'weights': 'uniform', 'algorithm': 'kd_tree'}. Best is trial 2 with value: 1.0.\n",
      "[I 2024-11-26 16:28:11,837] Trial 27 finished with value: 1.0 and parameters: {'n_neighbors': 15, 'weights': 'distance', 'algorithm': 'brute'}. Best is trial 2 with value: 1.0.\n",
      "[I 2024-11-26 16:28:11,847] Trial 28 finished with value: 1.0 and parameters: {'n_neighbors': 12, 'weights': 'uniform', 'algorithm': 'kd_tree'}. Best is trial 2 with value: 1.0.\n",
      "[I 2024-11-26 16:28:11,856] Trial 29 finished with value: 1.0 and parameters: {'n_neighbors': 10, 'weights': 'uniform', 'algorithm': 'ball_tree'}. Best is trial 2 with value: 1.0.\n",
      "[I 2024-11-26 16:28:11,863] Trial 30 finished with value: 0.9880952380952381 and parameters: {'n_neighbors': 5, 'weights': 'distance', 'algorithm': 'auto'}. Best is trial 2 with value: 1.0.\n",
      "[I 2024-11-26 16:28:11,872] Trial 31 finished with value: 1.0 and parameters: {'n_neighbors': 7, 'weights': 'uniform', 'algorithm': 'brute'}. Best is trial 2 with value: 1.0.\n",
      "[I 2024-11-26 16:28:11,884] Trial 32 finished with value: 1.0 and parameters: {'n_neighbors': 7, 'weights': 'uniform', 'algorithm': 'brute'}. Best is trial 2 with value: 1.0.\n",
      "[I 2024-11-26 16:28:11,894] Trial 33 finished with value: 1.0 and parameters: {'n_neighbors': 8, 'weights': 'uniform', 'algorithm': 'brute'}. Best is trial 2 with value: 1.0.\n",
      "[I 2024-11-26 16:28:11,904] Trial 34 finished with value: 0.9880952380952381 and parameters: {'n_neighbors': 3, 'weights': 'uniform', 'algorithm': 'brute'}. Best is trial 2 with value: 1.0.\n",
      "[I 2024-11-26 16:28:11,913] Trial 35 finished with value: 0.9880952380952381 and parameters: {'n_neighbors': 6, 'weights': 'uniform', 'algorithm': 'ball_tree'}. Best is trial 2 with value: 1.0.\n",
      "[I 2024-11-26 16:28:11,923] Trial 36 finished with value: 1.0 and parameters: {'n_neighbors': 9, 'weights': 'uniform', 'algorithm': 'ball_tree'}. Best is trial 2 with value: 1.0.\n",
      "[I 2024-11-26 16:28:11,932] Trial 37 finished with value: 0.9880952380952381 and parameters: {'n_neighbors': 5, 'weights': 'uniform', 'algorithm': 'auto'}. Best is trial 2 with value: 1.0.\n",
      "[I 2024-11-26 16:28:11,943] Trial 38 finished with value: 0.9880952380952381 and parameters: {'n_neighbors': 8, 'weights': 'distance', 'algorithm': 'brute'}. Best is trial 2 with value: 1.0.\n",
      "[I 2024-11-26 16:28:11,953] Trial 39 finished with value: 1.0 and parameters: {'n_neighbors': 10, 'weights': 'distance', 'algorithm': 'ball_tree'}. Best is trial 2 with value: 1.0.\n",
      "[I 2024-11-26 16:28:11,962] Trial 40 finished with value: 1.0 and parameters: {'n_neighbors': 20, 'weights': 'uniform', 'algorithm': 'kd_tree'}. Best is trial 2 with value: 1.0.\n",
      "[I 2024-11-26 16:28:11,973] Trial 41 finished with value: 1.0 and parameters: {'n_neighbors': 14, 'weights': 'uniform', 'algorithm': 'ball_tree'}. Best is trial 2 with value: 1.0.\n",
      "[I 2024-11-26 16:28:11,982] Trial 42 finished with value: 1.0 and parameters: {'n_neighbors': 13, 'weights': 'uniform', 'algorithm': 'ball_tree'}. Best is trial 2 with value: 1.0.\n",
      "[I 2024-11-26 16:28:11,992] Trial 43 finished with value: 1.0 and parameters: {'n_neighbors': 18, 'weights': 'uniform', 'algorithm': 'ball_tree'}. Best is trial 2 with value: 1.0.\n",
      "[I 2024-11-26 16:28:11,999] Trial 44 finished with value: 1.0 and parameters: {'n_neighbors': 15, 'weights': 'distance', 'algorithm': 'ball_tree'}. Best is trial 2 with value: 1.0.\n",
      "[I 2024-11-26 16:28:12,008] Trial 45 finished with value: 1.0 and parameters: {'n_neighbors': 11, 'weights': 'uniform', 'algorithm': 'kd_tree'}. Best is trial 2 with value: 1.0.\n",
      "[I 2024-11-26 16:28:12,016] Trial 46 finished with value: 1.0 and parameters: {'n_neighbors': 14, 'weights': 'distance', 'algorithm': 'ball_tree'}. Best is trial 2 with value: 1.0.\n",
      "[I 2024-11-26 16:28:12,027] Trial 47 finished with value: 1.0 and parameters: {'n_neighbors': 17, 'weights': 'distance', 'algorithm': 'brute'}. Best is trial 2 with value: 1.0.\n",
      "[I 2024-11-26 16:28:12,037] Trial 48 finished with value: 1.0 and parameters: {'n_neighbors': 16, 'weights': 'uniform', 'algorithm': 'kd_tree'}. Best is trial 2 with value: 1.0.\n",
      "[I 2024-11-26 16:28:12,044] Trial 49 finished with value: 1.0 and parameters: {'n_neighbors': 12, 'weights': 'distance', 'algorithm': 'auto'}. Best is trial 2 with value: 1.0.\n"
     ]
    },
    {
     "name": "stdout",
     "output_type": "stream",
     "text": [
      "Mejores parámetros de Random Forest: {'n_estimators': 170, 'max_depth': 18, 'min_samples_split': 19, 'min_samples_leaf': 20}\n",
      "Mejor puntuación de Random Forest: 1.0\n",
      "Mejores parámetros de KNN: {'n_neighbors': 18, 'weights': 'distance', 'algorithm': 'ball_tree'}\n",
      "Mejor puntuación de KNN: 1.0\n",
      "Modelos guardados exitosamente.\n"
     ]
    }
   ],
   "source": [
    "import pandas as pd\n",
    "import numpy as np\n",
    "import optuna\n",
    "from sklearn.model_selection import train_test_split\n",
    "from sklearn.ensemble import RandomForestClassifier\n",
    "from sklearn.neighbors import KNeighborsClassifier\n",
    "from sklearn.metrics import accuracy_score\n",
    "from sklearn.impute import SimpleImputer\n",
    "from sklearn.preprocessing import LabelEncoder, StandardScaler\n",
    "import joblib  # Para guardar los modelos\n",
    "\n",
    "# Cargar el dataset desde el archivo CSV\n",
    "data = pd.read_csv(\"tested.csv\")\n",
    "\n",
    "# Preprocesamiento de datos\n",
    "# Imputación de valores faltantes\n",
    "# Llenar valores nulos en la columna 'Age' con la mediana\n",
    "data['Age'].fillna(data['Age'].median(), inplace=True)\n",
    "\n",
    "# Llenar valores nulos en 'Embarked' con el valor más frecuente\n",
    "data['Embarked'].fillna(data['Embarked'].mode()[0], inplace=True)\n",
    "\n",
    "# Llenar valores nulos en 'Fare' con la mediana\n",
    "data['Fare'].fillna(data['Fare'].median(), inplace=True)\n",
    "\n",
    "\n",
    "# Convertir valores categóricos a numéricos\n",
    "data['Sex'] = data['Sex'].map({'male': 0, 'female': 1})\n",
    "data['Embarked'] = data['Embarked'].map({'C': 0, 'Q': 1, 'S': 2})\n",
    "# Selección de características (X) y la variable objetivo (y)\n",
    "X = data[['Pclass', 'Sex', 'Age', 'SibSp', 'Parch', 'Fare', 'Embarked']]\n",
    "y = data['Survived']\n",
    "\n",
    "# Escalado de las características\n",
    "scaler = StandardScaler()\n",
    "X = scaler.fit_transform(X)\n",
    "\n",
    "# Dividir el dataset en conjunto de entrenamiento y prueba\n",
    "X_train, X_test, y_train, y_test = train_test_split(X, y, test_size=0.2, random_state=42)\n",
    "\n",
    "# Función objetivo para Random Forest\n",
    "def rf_objective(trial):\n",
    "    n_estimators = trial.suggest_int('n_estimators', 50, 200)\n",
    "    max_depth = trial.suggest_int('max_depth', 3, 30)\n",
    "    min_samples_split = trial.suggest_int('min_samples_split', 2, 20)\n",
    "    min_samples_leaf = trial.suggest_int('min_samples_leaf', 1, 20)\n",
    "    \n",
    "    model = RandomForestClassifier(n_estimators=n_estimators, \n",
    "                                   max_depth=max_depth, \n",
    "                                   min_samples_split=min_samples_split, \n",
    "                                   min_samples_leaf=min_samples_leaf, \n",
    "                                   random_state=42)\n",
    "    model.fit(X_train, y_train)\n",
    "    y_pred = model.predict(X_test)\n",
    "    return accuracy_score(y_test, y_pred)\n",
    "\n",
    "# Función objetivo para KNN\n",
    "def knn_objective(trial):\n",
    "    n_neighbors = trial.suggest_int('n_neighbors', 3, 20)\n",
    "    weights = trial.suggest_categorical('weights', ['uniform', 'distance'])\n",
    "    algorithm = trial.suggest_categorical('algorithm', ['auto', 'ball_tree', 'kd_tree', 'brute'])\n",
    "    \n",
    "    model = KNeighborsClassifier(n_neighbors=n_neighbors, \n",
    "                                 weights=weights, \n",
    "                                 algorithm=algorithm)\n",
    "    model.fit(X_train, y_train)\n",
    "    y_pred = model.predict(X_test)\n",
    "    return accuracy_score(y_test, y_pred)\n",
    "\n",
    "# Crear los estudios para la optimización\n",
    "rf_study = optuna.create_study(direction='maximize')\n",
    "knn_study = optuna.create_study(direction='maximize')\n",
    "\n",
    "# Optimizar los modelos utilizando Optuna\n",
    "rf_study.optimize(rf_objective, n_trials=50)\n",
    "knn_study.optimize(knn_objective, n_trials=50)\n",
    "\n",
    "# Resultados de la optimización para Random Forest\n",
    "print(\"Mejores parámetros de Random Forest:\", rf_study.best_params)\n",
    "print(\"Mejor puntuación de Random Forest:\", rf_study.best_value)\n",
    "\n",
    "# Resultados de la optimización para KNN\n",
    "print(\"Mejores parámetros de KNN:\", knn_study.best_params)\n",
    "print(\"Mejor puntuación de KNN:\", knn_study.best_value)\n",
    "\n",
    "# Crear el modelo con los mejores parámetros de Random Forest y KNN\n",
    "rf_best_model = RandomForestClassifier(n_estimators=rf_study.best_params['n_estimators'],\n",
    "                                       max_depth=rf_study.best_params['max_depth'],\n",
    "                                       min_samples_split=rf_study.best_params['min_samples_split'],\n",
    "                                       min_samples_leaf=rf_study.best_params['min_samples_leaf'],\n",
    "                                       random_state=42)\n",
    "rf_best_model.fit(X_train, y_train)\n",
    "\n",
    "knn_best_model = KNeighborsClassifier(n_neighbors=knn_study.best_params['n_neighbors'],\n",
    "                                      weights=knn_study.best_params['weights'],\n",
    "                                      algorithm=knn_study.best_params['algorithm'])\n",
    "knn_best_model.fit(X_train, y_train)\n",
    "\n",
    "# Guardar los modelos en archivos .pkl\n",
    "joblib.dump(rf_best_model, 'rf_best_model.pkl')\n",
    "joblib.dump(knn_best_model, 'knn_best_model.pkl')\n",
    "\n",
    "print(\"Modelos guardados exitosamente.\")\n"
   ]
  },
  {
   "cell_type": "markdown",
   "metadata": {},
   "source": [
    "# Interprete los resultados obtenidos."
   ]
  },
  {
   "cell_type": "markdown",
   "metadata": {},
   "source": [
    "* Random Forest ha demostrado ser más confiable en este caso, ya que mantiene un rendimiento perfecto incluso después de la optimización de parámetros, pero existe la posibilidad de sobreajuste. Sería útil realizar una validación cruzada para confirmar su capacidad de generalización.\n",
    "* KNN, a pesar de mostrar una mejora con Optuna, sigue mostrando una diferencia notable en el rendimiento en comparación con Random Forest, especialmente sin la optimización de parámetros.\n",
    "* Los resultados con una precisión perfecta en ambos modelos, tanto sin como con Optuna, sugieren la posibilidad de sobreajuste. Es importante evaluar el desempeño con datos externos o usar validación cruzada para comprobar la robustez del modelo en nuevas instancias de datos."
   ]
  }
 ],
 "metadata": {
  "kernelspec": {
   "display_name": "Python 3",
   "language": "python",
   "name": "python3"
  },
  "language_info": {
   "codemirror_mode": {
    "name": "ipython",
    "version": 3
   },
   "file_extension": ".py",
   "mimetype": "text/x-python",
   "name": "python",
   "nbconvert_exporter": "python",
   "pygments_lexer": "ipython3",
   "version": "3.13.0"
  }
 },
 "nbformat": 4,
 "nbformat_minor": 2
}
